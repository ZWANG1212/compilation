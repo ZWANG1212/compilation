{
 "cells": [
  {
   "cell_type": "markdown",
   "id": "convinced-updating",
   "metadata": {},
   "source": [
    "# Embedding Layer\n",
    "\n",
    "***Author: Z.Wang***\n",
    "\n",
    "***Date: 2021-11-03***\n",
    "\n",
    "# Table of Contents\n",
    "* [Why should we have to do Embedding?](#Why-should-we-have-to-do-mbedding?)\n",
    "* [Embedding history](#Embedding-History)\n",
    "* [How shold we do Embedding?](#How-shold-we-do-Embedding?)\n",
    "    * [Category Features](#Category-Features)\n",
    "    * [Numerical Features](#Numerical-Features)"
   ]
  },
  {
   "cell_type": "markdown",
   "id": "immune-dividend",
   "metadata": {},
   "source": [
    "# Content\n",
    "\n",
    "\n",
    "神经网络 由神经元构成，而神经元是一个线性或非线性函数\n",
    "\n",
    "* 线性：\n",
    "\n",
    "  $w_1*x_1 + w_2*x_2 + w_3*x_3 +b$\n",
    "  \n",
    "  \n",
    "* 非线性：\n",
    "  \n",
    "  $sigmoid(w_1*x_1 + w_2*x_2 + w_3*x_3 +b) = \\frac{1}{1+e^{-(w_1*x_1 + w_2*x_2 + w_3*x_3 +b)}}$\n",
    "  \n",
    "  \n",
    "Encode / Transform\n",
    "\n",
    "\n",
    "## Why should we have to do Embedding?\n",
    "\n"
   ]
  },
  {
   "cell_type": "markdown",
   "id": "antique-cooperative",
   "metadata": {},
   "source": [
    "## Embedding History"
   ]
  },
  {
   "cell_type": "markdown",
   "id": "intensive-color",
   "metadata": {},
   "source": [
    "## How should we do Embedding?\n",
    "\n",
    "准备数据"
   ]
  },
  {
   "cell_type": "code",
   "execution_count": 51,
   "id": "blessed-laugh",
   "metadata": {},
   "outputs": [
    {
     "data": {
      "text/html": [
       "<div>\n",
       "<style scoped>\n",
       "    .dataframe tbody tr th:only-of-type {\n",
       "        vertical-align: middle;\n",
       "    }\n",
       "\n",
       "    .dataframe tbody tr th {\n",
       "        vertical-align: top;\n",
       "    }\n",
       "\n",
       "    .dataframe thead th {\n",
       "        text-align: right;\n",
       "    }\n",
       "</style>\n",
       "<table border=\"1\" class=\"dataframe\">\n",
       "  <thead>\n",
       "    <tr style=\"text-align: right;\">\n",
       "      <th></th>\n",
       "      <th>company</th>\n",
       "      <th>gender</th>\n",
       "      <th>color</th>\n",
       "      <th>habit</th>\n",
       "      <th>age</th>\n",
       "    </tr>\n",
       "  </thead>\n",
       "  <tbody>\n",
       "    <tr>\n",
       "      <th>0</th>\n",
       "      <td>B</td>\n",
       "      <td>M</td>\n",
       "      <td>white</td>\n",
       "      <td>swimming,running,cycling</td>\n",
       "      <td>48</td>\n",
       "    </tr>\n",
       "    <tr>\n",
       "      <th>1</th>\n",
       "      <td>B</td>\n",
       "      <td>F</td>\n",
       "      <td>yellow</td>\n",
       "      <td>traveling</td>\n",
       "      <td>30</td>\n",
       "    </tr>\n",
       "    <tr>\n",
       "      <th>2</th>\n",
       "      <td>A</td>\n",
       "      <td>M</td>\n",
       "      <td>white</td>\n",
       "      <td>traveling,swimming</td>\n",
       "      <td>34</td>\n",
       "    </tr>\n",
       "    <tr>\n",
       "      <th>3</th>\n",
       "      <td>B</td>\n",
       "      <td>F</td>\n",
       "      <td>white</td>\n",
       "      <td>running,cycling</td>\n",
       "      <td>35</td>\n",
       "    </tr>\n",
       "    <tr>\n",
       "      <th>4</th>\n",
       "      <td>B</td>\n",
       "      <td>F</td>\n",
       "      <td>yellow</td>\n",
       "      <td>running</td>\n",
       "      <td>27</td>\n",
       "    </tr>\n",
       "    <tr>\n",
       "      <th>5</th>\n",
       "      <td>B</td>\n",
       "      <td>F</td>\n",
       "      <td>white</td>\n",
       "      <td>traveling</td>\n",
       "      <td>45</td>\n",
       "    </tr>\n",
       "    <tr>\n",
       "      <th>6</th>\n",
       "      <td>A</td>\n",
       "      <td>F</td>\n",
       "      <td>black</td>\n",
       "      <td>traveling</td>\n",
       "      <td>44</td>\n",
       "    </tr>\n",
       "    <tr>\n",
       "      <th>7</th>\n",
       "      <td>B</td>\n",
       "      <td>F</td>\n",
       "      <td>black</td>\n",
       "      <td>swimming</td>\n",
       "      <td>21</td>\n",
       "    </tr>\n",
       "    <tr>\n",
       "      <th>8</th>\n",
       "      <td>A</td>\n",
       "      <td>M</td>\n",
       "      <td>white</td>\n",
       "      <td>traveling</td>\n",
       "      <td>39</td>\n",
       "    </tr>\n",
       "    <tr>\n",
       "      <th>9</th>\n",
       "      <td>C</td>\n",
       "      <td>F</td>\n",
       "      <td>black</td>\n",
       "      <td>cycling</td>\n",
       "      <td>31</td>\n",
       "    </tr>\n",
       "  </tbody>\n",
       "</table>\n",
       "</div>"
      ],
      "text/plain": [
       "  company gender   color                     habit  age\n",
       "0       B      M   white  swimming,running,cycling   48\n",
       "1       B      F  yellow                 traveling   30\n",
       "2       A      M   white        traveling,swimming   34\n",
       "3       B      F   white           running,cycling   35\n",
       "4       B      F  yellow                   running   27\n",
       "5       B      F   white                 traveling   45\n",
       "6       A      F   black                 traveling   44\n",
       "7       B      F   black                  swimming   21\n",
       "8       A      M   white                 traveling   39\n",
       "9       C      F   black                   cycling   31"
      ]
     },
     "execution_count": 51,
     "metadata": {},
     "output_type": "execute_result"
    }
   ],
   "source": [
    "import numpy as np\n",
    "import pandas as pd\n",
    "\n",
    "np.random.seed(1024)\n",
    "\n",
    "batch_size = 10\n",
    "company = ['A', 'B', 'C']\n",
    "gender = ['M', 'F']\n",
    "color = ['yellow', 'white', 'black']\n",
    "habit = ['traveling', 'swimming', 'running', 'cycling']\n",
    "\n",
    "data = pd.DataFrame({\n",
    "    'company': [company[i] for i in np.random.randint(0, 3, batch_size)],\n",
    "    'gender': [gender[i] for i in np.random.randint(0, 2, batch_size)],\n",
    "    'color': [color[i] for i in np.random.randint(0, 3, batch_size)],\n",
    "    'habit': [','.join(habit[np.random.randint(0, i):i]) for i in np.random.randint(1, 5, batch_size)],\n",
    "    'age': np.random.randint(18, 60, batch_size)\n",
    "})\n",
    "\n",
    "data"
   ]
  },
  {
   "cell_type": "markdown",
   "id": "according-ground",
   "metadata": {},
   "source": [
    "### Category Features"
   ]
  },
  {
   "cell_type": "markdown",
   "id": "particular-morrison",
   "metadata": {},
   "source": [
    "* ### 单值离散特征 & one_hot"
   ]
  },
  {
   "cell_type": "code",
   "execution_count": 2,
   "id": "southern-pickup",
   "metadata": {},
   "outputs": [
    {
     "data": {
      "text/html": [
       "<div>\n",
       "<style scoped>\n",
       "    .dataframe tbody tr th:only-of-type {\n",
       "        vertical-align: middle;\n",
       "    }\n",
       "\n",
       "    .dataframe tbody tr th {\n",
       "        vertical-align: top;\n",
       "    }\n",
       "\n",
       "    .dataframe thead th {\n",
       "        text-align: right;\n",
       "    }\n",
       "</style>\n",
       "<table border=\"1\" class=\"dataframe\">\n",
       "  <thead>\n",
       "    <tr style=\"text-align: right;\">\n",
       "      <th></th>\n",
       "      <th>A</th>\n",
       "      <th>B</th>\n",
       "      <th>C</th>\n",
       "    </tr>\n",
       "  </thead>\n",
       "  <tbody>\n",
       "    <tr>\n",
       "      <th>0</th>\n",
       "      <td>0</td>\n",
       "      <td>1</td>\n",
       "      <td>0</td>\n",
       "    </tr>\n",
       "    <tr>\n",
       "      <th>1</th>\n",
       "      <td>0</td>\n",
       "      <td>1</td>\n",
       "      <td>0</td>\n",
       "    </tr>\n",
       "    <tr>\n",
       "      <th>2</th>\n",
       "      <td>1</td>\n",
       "      <td>0</td>\n",
       "      <td>0</td>\n",
       "    </tr>\n",
       "    <tr>\n",
       "      <th>3</th>\n",
       "      <td>0</td>\n",
       "      <td>1</td>\n",
       "      <td>0</td>\n",
       "    </tr>\n",
       "    <tr>\n",
       "      <th>4</th>\n",
       "      <td>0</td>\n",
       "      <td>1</td>\n",
       "      <td>0</td>\n",
       "    </tr>\n",
       "    <tr>\n",
       "      <th>5</th>\n",
       "      <td>0</td>\n",
       "      <td>1</td>\n",
       "      <td>0</td>\n",
       "    </tr>\n",
       "    <tr>\n",
       "      <th>6</th>\n",
       "      <td>1</td>\n",
       "      <td>0</td>\n",
       "      <td>0</td>\n",
       "    </tr>\n",
       "    <tr>\n",
       "      <th>7</th>\n",
       "      <td>0</td>\n",
       "      <td>1</td>\n",
       "      <td>0</td>\n",
       "    </tr>\n",
       "    <tr>\n",
       "      <th>8</th>\n",
       "      <td>1</td>\n",
       "      <td>0</td>\n",
       "      <td>0</td>\n",
       "    </tr>\n",
       "    <tr>\n",
       "      <th>9</th>\n",
       "      <td>0</td>\n",
       "      <td>0</td>\n",
       "      <td>1</td>\n",
       "    </tr>\n",
       "  </tbody>\n",
       "</table>\n",
       "</div>"
      ],
      "text/plain": [
       "   A  B  C\n",
       "0  0  1  0\n",
       "1  0  1  0\n",
       "2  1  0  0\n",
       "3  0  1  0\n",
       "4  0  1  0\n",
       "5  0  1  0\n",
       "6  1  0  0\n",
       "7  0  1  0\n",
       "8  1  0  0\n",
       "9  0  0  1"
      ]
     },
     "execution_count": 2,
     "metadata": {},
     "output_type": "execute_result"
    }
   ],
   "source": [
    "company_onehot = pd.get_dummies(data['company'])\n",
    "company_onehot"
   ]
  },
  {
   "cell_type": "markdown",
   "id": "primary-while",
   "metadata": {},
   "source": [
    "生成 embedding table："
   ]
  },
  {
   "cell_type": "code",
   "execution_count": 3,
   "id": "mighty-beatles",
   "metadata": {
    "scrolled": true
   },
   "outputs": [
    {
     "name": "stdout",
     "output_type": "stream",
     "text": [
      "WARNING:tensorflow:From /Users/zwang/.virtualenvs/python3.9/lib/python3.9/site-packages/tensorflow/python/compat/v2_compat.py:101: disable_resource_variables (from tensorflow.python.ops.variable_scope) is deprecated and will be removed in a future version.\n",
      "Instructions for updating:\n",
      "non-resource variables are not supported in the long term\n",
      "WARNING:tensorflow:From /Users/zwang/.virtualenvs/python3.9/lib/python3.9/site-packages/tensorflow/python/util/tf_should_use.py:247: initialize_all_variables (from tensorflow.python.ops.variables) is deprecated and will be removed after 2017-03-02.\n",
      "Instructions for updating:\n",
      "Use `tf.global_variables_initializer` instead.\n"
     ]
    },
    {
     "data": {
      "text/plain": [
       "array([[ 0.00990909, -0.0041791 , -0.00641351, -0.00594623],\n",
       "       [ 0.00055747, -0.00159252, -0.00749974, -0.00555932],\n",
       "       [-0.00067203,  0.00156488, -0.01019037,  0.01614569]],\n",
       "      dtype=float32)"
      ]
     },
     "execution_count": 3,
     "metadata": {},
     "output_type": "execute_result"
    }
   ],
   "source": [
    "import tensorflow.compat.v1 as tf\n",
    "\n",
    "tf.disable_v2_behavior()\n",
    "tf.disable_eager_execution()\n",
    "tf.set_random_seed(1024)\n",
    "\n",
    "company_vocab_size = company_onehot.shape[1]\n",
    "embed_dim = 4\n",
    "company_embedding_table = tf.get_variable(name='company_embedding_table',\n",
    "                                  shape=(company_vocab_size, embed_dim),\n",
    "                                  initializer=tf.truncated_normal_initializer(0, 0.01))\n",
    "\n",
    "with tf.Session() as sess:\n",
    "    sess.run(tf.initialize_all_variables())\n",
    "    company_embed_table = sess.run(company_embedding_table)\n",
    "    \n",
    "company_embed_table"
   ]
  },
  {
   "cell_type": "markdown",
   "id": "classified-richardson",
   "metadata": {},
   "source": [
    "company字段的one hot编码与embedding table矩阵相乘，生成dense向量："
   ]
  },
  {
   "cell_type": "code",
   "execution_count": 4,
   "id": "worse-plaintiff",
   "metadata": {
    "scrolled": true
   },
   "outputs": [
    {
     "name": "stdout",
     "output_type": "stream",
     "text": [
      "[[0. 1. 0.]\n",
      " [0. 1. 0.]\n",
      " [1. 0. 0.]\n",
      " [0. 1. 0.]\n",
      " [0. 1. 0.]\n",
      " [0. 1. 0.]\n",
      " [1. 0. 0.]\n",
      " [0. 1. 0.]\n",
      " [1. 0. 0.]\n",
      " [0. 0. 1.]]\n",
      "[[ 0.00990909 -0.0041791  -0.00641351 -0.00594623]\n",
      " [ 0.00055747 -0.00159252 -0.00749974 -0.00555932]\n",
      " [-0.00067203  0.00156488 -0.01019037  0.01614569]]\n"
     ]
    },
    {
     "data": {
      "text/plain": [
       "array([[ 0.00055747, -0.00159252, -0.00749974, -0.00555932],\n",
       "       [ 0.00055747, -0.00159252, -0.00749974, -0.00555932],\n",
       "       [ 0.00990909, -0.0041791 , -0.00641351, -0.00594623],\n",
       "       [ 0.00055747, -0.00159252, -0.00749974, -0.00555932],\n",
       "       [ 0.00055747, -0.00159252, -0.00749974, -0.00555932],\n",
       "       [ 0.00055747, -0.00159252, -0.00749974, -0.00555932],\n",
       "       [ 0.00990909, -0.0041791 , -0.00641351, -0.00594623],\n",
       "       [ 0.00055747, -0.00159252, -0.00749974, -0.00555932],\n",
       "       [ 0.00990909, -0.0041791 , -0.00641351, -0.00594623],\n",
       "       [-0.00067203,  0.00156488, -0.01019037,  0.01614569]],\n",
       "      dtype=float32)"
      ]
     },
     "execution_count": 4,
     "metadata": {},
     "output_type": "execute_result"
    }
   ],
   "source": [
    "company_embed = tf.matmul(tf.cast(company_onehot.values, tf.float32), company_embed_table)\n",
    "\n",
    "with tf.Session() as sess:\n",
    "    sess.run(tf.initialize_all_variables())\n",
    "    print(sess.run(tf.cast(company_onehot.values, tf.float32)))\n",
    "    print(sess.run(company_embedding_table))\n",
    "    company_embeded = sess.run(company_embed)\n",
    "    \n",
    "company_embeded"
   ]
  },
  {
   "cell_type": "code",
   "execution_count": 5,
   "id": "informative-millennium",
   "metadata": {},
   "outputs": [
    {
     "data": {
      "text/plain": [
       "(10, 4)"
      ]
     },
     "execution_count": 5,
     "metadata": {},
     "output_type": "execute_result"
    }
   ],
   "source": [
    "company_embeded.shape"
   ]
  },
  {
   "cell_type": "markdown",
   "id": "alone-universal",
   "metadata": {},
   "source": [
    "**Best Practice** \n",
    "\n",
    "将company字段的one hot编码id化"
   ]
  },
  {
   "cell_type": "code",
   "execution_count": 6,
   "id": "working-death",
   "metadata": {
    "scrolled": true
   },
   "outputs": [
    {
     "data": {
      "text/plain": [
       "array([[1],\n",
       "       [1],\n",
       "       [0],\n",
       "       [1],\n",
       "       [1],\n",
       "       [1],\n",
       "       [0],\n",
       "       [1],\n",
       "       [0],\n",
       "       [2]])"
      ]
     },
     "execution_count": 6,
     "metadata": {},
     "output_type": "execute_result"
    }
   ],
   "source": [
    "company_index = [item[1] for item in np.argwhere(company_onehot.values==1)]\n",
    "company_index = np.reshape(company_index, (batch_size, 1))\n",
    "company_index"
   ]
  },
  {
   "cell_type": "markdown",
   "id": "statewide-button",
   "metadata": {},
   "source": [
    "从embedding table中抽取id行的dense向量："
   ]
  },
  {
   "cell_type": "code",
   "execution_count": 7,
   "id": "british-internet",
   "metadata": {
    "scrolled": true
   },
   "outputs": [
    {
     "data": {
      "text/plain": [
       "array([[[ 0.00055747, -0.00159252, -0.00749974, -0.00555932]],\n",
       "\n",
       "       [[ 0.00055747, -0.00159252, -0.00749974, -0.00555932]],\n",
       "\n",
       "       [[ 0.00990909, -0.0041791 , -0.00641351, -0.00594623]],\n",
       "\n",
       "       [[ 0.00055747, -0.00159252, -0.00749974, -0.00555932]],\n",
       "\n",
       "       [[ 0.00055747, -0.00159252, -0.00749974, -0.00555932]],\n",
       "\n",
       "       [[ 0.00055747, -0.00159252, -0.00749974, -0.00555932]],\n",
       "\n",
       "       [[ 0.00990909, -0.0041791 , -0.00641351, -0.00594623]],\n",
       "\n",
       "       [[ 0.00055747, -0.00159252, -0.00749974, -0.00555932]],\n",
       "\n",
       "       [[ 0.00990909, -0.0041791 , -0.00641351, -0.00594623]],\n",
       "\n",
       "       [[-0.00067203,  0.00156488, -0.01019037,  0.01614569]]],\n",
       "      dtype=float32)"
      ]
     },
     "execution_count": 7,
     "metadata": {},
     "output_type": "execute_result"
    }
   ],
   "source": [
    "company_embeded_v2 = tf.gather(company_embed_table, company_index)\n",
    "with tf.Session() as sess:\n",
    "    company_embeded_v2 = sess.run(company_embeded_v2)\n",
    "    \n",
    "company_embeded_v2"
   ]
  },
  {
   "cell_type": "code",
   "execution_count": 8,
   "id": "cheap-consciousness",
   "metadata": {},
   "outputs": [
    {
     "data": {
      "text/plain": [
       "(10, 1, 4)"
      ]
     },
     "execution_count": 8,
     "metadata": {},
     "output_type": "execute_result"
    }
   ],
   "source": [
    "company_embeded_v2.shape"
   ]
  },
  {
   "cell_type": "code",
   "execution_count": 9,
   "id": "multiple-commissioner",
   "metadata": {
    "scrolled": true
   },
   "outputs": [
    {
     "data": {
      "text/plain": [
       "array([[ 0.00055747, -0.00159252, -0.00749974, -0.00555932],\n",
       "       [ 0.00055747, -0.00159252, -0.00749974, -0.00555932],\n",
       "       [ 0.00990909, -0.0041791 , -0.00641351, -0.00594623],\n",
       "       [ 0.00055747, -0.00159252, -0.00749974, -0.00555932],\n",
       "       [ 0.00055747, -0.00159252, -0.00749974, -0.00555932],\n",
       "       [ 0.00055747, -0.00159252, -0.00749974, -0.00555932],\n",
       "       [ 0.00990909, -0.0041791 , -0.00641351, -0.00594623],\n",
       "       [ 0.00055747, -0.00159252, -0.00749974, -0.00555932],\n",
       "       [ 0.00990909, -0.0041791 , -0.00641351, -0.00594623],\n",
       "       [-0.00067203,  0.00156488, -0.01019037,  0.01614569]],\n",
       "      dtype=float32)"
      ]
     },
     "execution_count": 9,
     "metadata": {},
     "output_type": "execute_result"
    }
   ],
   "source": [
    "np.squeeze(company_embeded_v2)"
   ]
  },
  {
   "cell_type": "code",
   "execution_count": 10,
   "id": "agricultural-fence",
   "metadata": {},
   "outputs": [
    {
     "data": {
      "text/plain": [
       "(10, 4)"
      ]
     },
     "execution_count": 10,
     "metadata": {},
     "output_type": "execute_result"
    }
   ],
   "source": [
    "np.squeeze(company_embeded_v2).shape"
   ]
  },
  {
   "cell_type": "markdown",
   "id": "double-pierre",
   "metadata": {},
   "source": [
    "* ### 多值离散特征 & multi_hot"
   ]
  },
  {
   "cell_type": "code",
   "execution_count": 11,
   "id": "acute-ordering",
   "metadata": {},
   "outputs": [
    {
     "data": {
      "text/plain": [
       "0    swimming,running,cycling\n",
       "1                   traveling\n",
       "2          traveling,swimming\n",
       "3             running,cycling\n",
       "4                     running\n",
       "5                   traveling\n",
       "6                   traveling\n",
       "7                    swimming\n",
       "8                   traveling\n",
       "9                     cycling\n",
       "Name: habit, dtype: object"
      ]
     },
     "execution_count": 11,
     "metadata": {},
     "output_type": "execute_result"
    }
   ],
   "source": [
    "data['habit']"
   ]
  },
  {
   "cell_type": "code",
   "execution_count": 12,
   "id": "corresponding-photograph",
   "metadata": {
    "scrolled": true
   },
   "outputs": [
    {
     "data": {
      "text/html": [
       "<div>\n",
       "<style scoped>\n",
       "    .dataframe tbody tr th:only-of-type {\n",
       "        vertical-align: middle;\n",
       "    }\n",
       "\n",
       "    .dataframe tbody tr th {\n",
       "        vertical-align: top;\n",
       "    }\n",
       "\n",
       "    .dataframe thead th {\n",
       "        text-align: right;\n",
       "    }\n",
       "</style>\n",
       "<table border=\"1\" class=\"dataframe\">\n",
       "  <thead>\n",
       "    <tr style=\"text-align: right;\">\n",
       "      <th></th>\n",
       "      <th>cycling</th>\n",
       "      <th>running</th>\n",
       "      <th>running,cycling</th>\n",
       "      <th>swimming</th>\n",
       "      <th>swimming,running,cycling</th>\n",
       "      <th>traveling</th>\n",
       "      <th>traveling,swimming</th>\n",
       "    </tr>\n",
       "  </thead>\n",
       "  <tbody>\n",
       "    <tr>\n",
       "      <th>0</th>\n",
       "      <td>0</td>\n",
       "      <td>0</td>\n",
       "      <td>0</td>\n",
       "      <td>0</td>\n",
       "      <td>1</td>\n",
       "      <td>0</td>\n",
       "      <td>0</td>\n",
       "    </tr>\n",
       "    <tr>\n",
       "      <th>1</th>\n",
       "      <td>0</td>\n",
       "      <td>0</td>\n",
       "      <td>0</td>\n",
       "      <td>0</td>\n",
       "      <td>0</td>\n",
       "      <td>1</td>\n",
       "      <td>0</td>\n",
       "    </tr>\n",
       "    <tr>\n",
       "      <th>2</th>\n",
       "      <td>0</td>\n",
       "      <td>0</td>\n",
       "      <td>0</td>\n",
       "      <td>0</td>\n",
       "      <td>0</td>\n",
       "      <td>0</td>\n",
       "      <td>1</td>\n",
       "    </tr>\n",
       "    <tr>\n",
       "      <th>3</th>\n",
       "      <td>0</td>\n",
       "      <td>0</td>\n",
       "      <td>1</td>\n",
       "      <td>0</td>\n",
       "      <td>0</td>\n",
       "      <td>0</td>\n",
       "      <td>0</td>\n",
       "    </tr>\n",
       "    <tr>\n",
       "      <th>4</th>\n",
       "      <td>0</td>\n",
       "      <td>1</td>\n",
       "      <td>0</td>\n",
       "      <td>0</td>\n",
       "      <td>0</td>\n",
       "      <td>0</td>\n",
       "      <td>0</td>\n",
       "    </tr>\n",
       "    <tr>\n",
       "      <th>5</th>\n",
       "      <td>0</td>\n",
       "      <td>0</td>\n",
       "      <td>0</td>\n",
       "      <td>0</td>\n",
       "      <td>0</td>\n",
       "      <td>1</td>\n",
       "      <td>0</td>\n",
       "    </tr>\n",
       "    <tr>\n",
       "      <th>6</th>\n",
       "      <td>0</td>\n",
       "      <td>0</td>\n",
       "      <td>0</td>\n",
       "      <td>0</td>\n",
       "      <td>0</td>\n",
       "      <td>1</td>\n",
       "      <td>0</td>\n",
       "    </tr>\n",
       "    <tr>\n",
       "      <th>7</th>\n",
       "      <td>0</td>\n",
       "      <td>0</td>\n",
       "      <td>0</td>\n",
       "      <td>1</td>\n",
       "      <td>0</td>\n",
       "      <td>0</td>\n",
       "      <td>0</td>\n",
       "    </tr>\n",
       "    <tr>\n",
       "      <th>8</th>\n",
       "      <td>0</td>\n",
       "      <td>0</td>\n",
       "      <td>0</td>\n",
       "      <td>0</td>\n",
       "      <td>0</td>\n",
       "      <td>1</td>\n",
       "      <td>0</td>\n",
       "    </tr>\n",
       "    <tr>\n",
       "      <th>9</th>\n",
       "      <td>1</td>\n",
       "      <td>0</td>\n",
       "      <td>0</td>\n",
       "      <td>0</td>\n",
       "      <td>0</td>\n",
       "      <td>0</td>\n",
       "      <td>0</td>\n",
       "    </tr>\n",
       "  </tbody>\n",
       "</table>\n",
       "</div>"
      ],
      "text/plain": [
       "   cycling  running  running,cycling  swimming  swimming,running,cycling  \\\n",
       "0        0        0                0         0                         1   \n",
       "1        0        0                0         0                         0   \n",
       "2        0        0                0         0                         0   \n",
       "3        0        0                1         0                         0   \n",
       "4        0        1                0         0                         0   \n",
       "5        0        0                0         0                         0   \n",
       "6        0        0                0         0                         0   \n",
       "7        0        0                0         1                         0   \n",
       "8        0        0                0         0                         0   \n",
       "9        1        0                0         0                         0   \n",
       "\n",
       "   traveling  traveling,swimming  \n",
       "0          0                   0  \n",
       "1          1                   0  \n",
       "2          0                   1  \n",
       "3          0                   0  \n",
       "4          0                   0  \n",
       "5          1                   0  \n",
       "6          1                   0  \n",
       "7          0                   0  \n",
       "8          1                   0  \n",
       "9          0                   0  "
      ]
     },
     "execution_count": 12,
     "metadata": {},
     "output_type": "execute_result"
    }
   ],
   "source": [
    "habit_onehot = pd.get_dummies(data['habit'])\n",
    "habit_onehot"
   ]
  },
  {
   "cell_type": "code",
   "execution_count": 13,
   "id": "interior-emerald",
   "metadata": {},
   "outputs": [
    {
     "name": "stdout",
     "output_type": "stream",
     "text": [
      "0    swimming,running,cycling\n",
      "1                   traveling\n",
      "2          traveling,swimming\n",
      "3             running,cycling\n",
      "4                     running\n",
      "5                   traveling\n",
      "6                   traveling\n",
      "7                    swimming\n",
      "8                   traveling\n",
      "9                     cycling\n",
      "Name: habit, dtype: object\n"
     ]
    },
    {
     "data": {
      "text/html": [
       "<div>\n",
       "<style scoped>\n",
       "    .dataframe tbody tr th:only-of-type {\n",
       "        vertical-align: middle;\n",
       "    }\n",
       "\n",
       "    .dataframe tbody tr th {\n",
       "        vertical-align: top;\n",
       "    }\n",
       "\n",
       "    .dataframe thead th {\n",
       "        text-align: right;\n",
       "    }\n",
       "</style>\n",
       "<table border=\"1\" class=\"dataframe\">\n",
       "  <thead>\n",
       "    <tr style=\"text-align: right;\">\n",
       "      <th></th>\n",
       "      <th>cycling</th>\n",
       "      <th>running</th>\n",
       "      <th>swimming</th>\n",
       "      <th>traveling</th>\n",
       "    </tr>\n",
       "  </thead>\n",
       "  <tbody>\n",
       "    <tr>\n",
       "      <th>0</th>\n",
       "      <td>1</td>\n",
       "      <td>1</td>\n",
       "      <td>1</td>\n",
       "      <td>0</td>\n",
       "    </tr>\n",
       "    <tr>\n",
       "      <th>1</th>\n",
       "      <td>0</td>\n",
       "      <td>0</td>\n",
       "      <td>0</td>\n",
       "      <td>1</td>\n",
       "    </tr>\n",
       "    <tr>\n",
       "      <th>2</th>\n",
       "      <td>0</td>\n",
       "      <td>0</td>\n",
       "      <td>1</td>\n",
       "      <td>1</td>\n",
       "    </tr>\n",
       "    <tr>\n",
       "      <th>3</th>\n",
       "      <td>1</td>\n",
       "      <td>1</td>\n",
       "      <td>0</td>\n",
       "      <td>0</td>\n",
       "    </tr>\n",
       "    <tr>\n",
       "      <th>4</th>\n",
       "      <td>0</td>\n",
       "      <td>1</td>\n",
       "      <td>0</td>\n",
       "      <td>0</td>\n",
       "    </tr>\n",
       "    <tr>\n",
       "      <th>5</th>\n",
       "      <td>0</td>\n",
       "      <td>0</td>\n",
       "      <td>0</td>\n",
       "      <td>1</td>\n",
       "    </tr>\n",
       "    <tr>\n",
       "      <th>6</th>\n",
       "      <td>0</td>\n",
       "      <td>0</td>\n",
       "      <td>0</td>\n",
       "      <td>1</td>\n",
       "    </tr>\n",
       "    <tr>\n",
       "      <th>7</th>\n",
       "      <td>0</td>\n",
       "      <td>0</td>\n",
       "      <td>1</td>\n",
       "      <td>0</td>\n",
       "    </tr>\n",
       "    <tr>\n",
       "      <th>8</th>\n",
       "      <td>0</td>\n",
       "      <td>0</td>\n",
       "      <td>0</td>\n",
       "      <td>1</td>\n",
       "    </tr>\n",
       "    <tr>\n",
       "      <th>9</th>\n",
       "      <td>1</td>\n",
       "      <td>0</td>\n",
       "      <td>0</td>\n",
       "      <td>0</td>\n",
       "    </tr>\n",
       "  </tbody>\n",
       "</table>\n",
       "</div>"
      ],
      "text/plain": [
       "   cycling  running  swimming  traveling\n",
       "0        1        1         1          0\n",
       "1        0        0         0          1\n",
       "2        0        0         1          1\n",
       "3        1        1         0          0\n",
       "4        0        1         0          0\n",
       "5        0        0         0          1\n",
       "6        0        0         0          1\n",
       "7        0        0         1          0\n",
       "8        0        0         0          1\n",
       "9        1        0         0          0"
      ]
     },
     "execution_count": 13,
     "metadata": {},
     "output_type": "execute_result"
    }
   ],
   "source": [
    "print(data['habit'])\n",
    "\n",
    "habit_multi_hot = data['habit'].str.split(',').str.join('|').str.get_dummies()\n",
    "habit_multi_hot"
   ]
  },
  {
   "cell_type": "markdown",
   "id": "lightweight-drilling",
   "metadata": {},
   "source": [
    "生成habit字段的embedding table:"
   ]
  },
  {
   "cell_type": "code",
   "execution_count": 14,
   "id": "specified-sense",
   "metadata": {
    "scrolled": true
   },
   "outputs": [
    {
     "data": {
      "text/plain": [
       "array([[ 0.01577152, -0.01522578, -0.00711412, -0.00292747],\n",
       "       [-0.00081242,  0.00565728, -0.00288759, -0.01013346],\n",
       "       [ 0.00439587, -0.00260259,  0.01153456, -0.00773898],\n",
       "       [ 0.00736157, -0.00729969,  0.01349804, -0.00022794]],\n",
       "      dtype=float32)"
      ]
     },
     "execution_count": 14,
     "metadata": {},
     "output_type": "execute_result"
    }
   ],
   "source": [
    "habit_vocab_size = habit_multi_hot.shape[1]\n",
    "embed_dim = 4\n",
    "habit_embedding_table = tf.get_variable(name='habit_embedding_table',\n",
    "                                  shape=(habit_vocab_size, embed_dim),\n",
    "                                  initializer=tf.truncated_normal_initializer(0, 0.01))\n",
    "\n",
    "with tf.Session() as sess:\n",
    "    sess.run(tf.initialize_all_variables())\n",
    "    habit_embed_table = sess.run(habit_embedding_table)\n",
    "    \n",
    "habit_embed_table"
   ]
  },
  {
   "cell_type": "markdown",
   "id": "micro-pulse",
   "metadata": {},
   "source": [
    "habit字段的mutil hot编码与embedding table矩阵相乘，生成habit字段的dense向量："
   ]
  },
  {
   "cell_type": "code",
   "execution_count": 15,
   "id": "injured-animal",
   "metadata": {
    "scrolled": false
   },
   "outputs": [
    {
     "name": "stdout",
     "output_type": "stream",
     "text": [
      "[[1. 1. 1. 0.]\n",
      " [0. 0. 0. 1.]\n",
      " [0. 0. 1. 1.]\n",
      " [1. 1. 0. 0.]\n",
      " [0. 1. 0. 0.]\n",
      " [0. 0. 0. 1.]\n",
      " [0. 0. 0. 1.]\n",
      " [0. 0. 1. 0.]\n",
      " [0. 0. 0. 1.]\n",
      " [1. 0. 0. 0.]]\n",
      "[[ 0.01577152 -0.01522578 -0.00711412 -0.00292747]\n",
      " [-0.00081242  0.00565728 -0.00288759 -0.01013346]\n",
      " [ 0.00439587 -0.00260259  0.01153456 -0.00773898]\n",
      " [ 0.00736157 -0.00729969  0.01349804 -0.00022794]]\n"
     ]
    },
    {
     "data": {
      "text/plain": [
       "array([[ 0.01935498, -0.01217109,  0.00153286, -0.02079991],\n",
       "       [ 0.00736157, -0.00729969,  0.01349804, -0.00022794],\n",
       "       [ 0.01175744, -0.00990228,  0.0250326 , -0.00796691],\n",
       "       [ 0.0149591 , -0.0095685 , -0.01000171, -0.01306093],\n",
       "       [-0.00081242,  0.00565728, -0.00288759, -0.01013346],\n",
       "       [ 0.00736157, -0.00729969,  0.01349804, -0.00022794],\n",
       "       [ 0.00736157, -0.00729969,  0.01349804, -0.00022794],\n",
       "       [ 0.00439587, -0.00260259,  0.01153456, -0.00773898],\n",
       "       [ 0.00736157, -0.00729969,  0.01349804, -0.00022794],\n",
       "       [ 0.01577152, -0.01522578, -0.00711412, -0.00292747]],\n",
       "      dtype=float32)"
      ]
     },
     "execution_count": 15,
     "metadata": {},
     "output_type": "execute_result"
    }
   ],
   "source": [
    "habit_embed = tf.matmul(tf.cast(habit_multi_hot.values, tf.float32), habit_embed_table)\n",
    "\n",
    "with tf.Session() as sess:\n",
    "    sess.run(tf.initialize_all_variables())\n",
    "    print(sess.run(tf.cast(habit_multi_hot.values, tf.float32)))\n",
    "    print(sess.run(habit_embedding_table))\n",
    "    habit_embeded = sess.run(habit_embed)\n",
    "    \n",
    "habit_embeded"
   ]
  },
  {
   "cell_type": "markdown",
   "id": "united-miracle",
   "metadata": {},
   "source": [
    "**Best Practice**\n",
    "\n",
    "将habit字段的multi hot编码id化："
   ]
  },
  {
   "cell_type": "code",
   "execution_count": 16,
   "id": "residential-prevention",
   "metadata": {
    "scrolled": false
   },
   "outputs": [
    {
     "name": "stdout",
     "output_type": "stream",
     "text": [
      "[[1 1 1 0]\n",
      " [0 0 0 1]\n",
      " [0 0 1 1]\n",
      " [1 1 0 0]\n",
      " [0 1 0 0]\n",
      " [0 0 0 1]\n",
      " [0 0 0 1]\n",
      " [0 0 1 0]\n",
      " [0 0 0 1]\n",
      " [1 0 0 0]]\n",
      "max_length: 3\n"
     ]
    },
    {
     "data": {
      "text/plain": [
       "array([[1, 2, 3],\n",
       "       [4, 0, 0],\n",
       "       [3, 4, 0],\n",
       "       [1, 2, 0],\n",
       "       [2, 0, 0],\n",
       "       [4, 0, 0],\n",
       "       [4, 0, 0],\n",
       "       [3, 0, 0],\n",
       "       [4, 0, 0],\n",
       "       [1, 0, 0]])"
      ]
     },
     "execution_count": 16,
     "metadata": {},
     "output_type": "execute_result"
    }
   ],
   "source": [
    "print(habit_multi_hot.values)\n",
    "max_length = np.max([item[1] for item in np.argwhere(habit_multi_hot.values==1)])\n",
    "print(f\"max_length: {max_length}\")\n",
    "\n",
    "habit_index = []\n",
    "for i in range(batch_size):\n",
    "    temp = [item[1]+1 for item in np.argwhere(habit_multi_hot.values==1) if item[0]==i]\n",
    "    while len(temp) < max_length:\n",
    "        temp.append(0)\n",
    "    habit_index.append(temp)\n",
    "habit_index = np.array(habit_index)\n",
    "habit_index"
   ]
  },
  {
   "cell_type": "markdown",
   "id": "accepted-russian",
   "metadata": {},
   "source": [
    "用habit字段的id，抽取embedding table中对应id的行："
   ]
  },
  {
   "cell_type": "code",
   "execution_count": 17,
   "id": "disturbed-stroke",
   "metadata": {},
   "outputs": [
    {
     "name": "stdout",
     "output_type": "stream",
     "text": [
      "[[ 0.01020543  0.01566322 -0.00493186 -0.01034193]\n",
      " [-0.01021489 -0.00272903 -0.012645    0.00677401]\n",
      " [ 0.00953833  0.00702333  0.00557917  0.01392039]\n",
      " [ 0.01476383 -0.01419464  0.00723014  0.01381919]\n",
      " [ 0.01259444 -0.01933192  0.00539015  0.00478455]]\n"
     ]
    },
    {
     "data": {
      "text/plain": [
       "array([[[-0.01021489, -0.00272903, -0.012645  ,  0.00677401],\n",
       "        [ 0.00953833,  0.00702333,  0.00557917,  0.01392039],\n",
       "        [ 0.01476383, -0.01419464,  0.00723014,  0.01381919]],\n",
       "\n",
       "       [[ 0.01259444, -0.01933192,  0.00539015,  0.00478455],\n",
       "        [ 0.01020543,  0.01566322, -0.00493186, -0.01034193],\n",
       "        [ 0.01020543,  0.01566322, -0.00493186, -0.01034193]],\n",
       "\n",
       "       [[ 0.01476383, -0.01419464,  0.00723014,  0.01381919],\n",
       "        [ 0.01259444, -0.01933192,  0.00539015,  0.00478455],\n",
       "        [ 0.01020543,  0.01566322, -0.00493186, -0.01034193]],\n",
       "\n",
       "       [[-0.01021489, -0.00272903, -0.012645  ,  0.00677401],\n",
       "        [ 0.00953833,  0.00702333,  0.00557917,  0.01392039],\n",
       "        [ 0.01020543,  0.01566322, -0.00493186, -0.01034193]],\n",
       "\n",
       "       [[ 0.00953833,  0.00702333,  0.00557917,  0.01392039],\n",
       "        [ 0.01020543,  0.01566322, -0.00493186, -0.01034193],\n",
       "        [ 0.01020543,  0.01566322, -0.00493186, -0.01034193]],\n",
       "\n",
       "       [[ 0.01259444, -0.01933192,  0.00539015,  0.00478455],\n",
       "        [ 0.01020543,  0.01566322, -0.00493186, -0.01034193],\n",
       "        [ 0.01020543,  0.01566322, -0.00493186, -0.01034193]],\n",
       "\n",
       "       [[ 0.01259444, -0.01933192,  0.00539015,  0.00478455],\n",
       "        [ 0.01020543,  0.01566322, -0.00493186, -0.01034193],\n",
       "        [ 0.01020543,  0.01566322, -0.00493186, -0.01034193]],\n",
       "\n",
       "       [[ 0.01476383, -0.01419464,  0.00723014,  0.01381919],\n",
       "        [ 0.01020543,  0.01566322, -0.00493186, -0.01034193],\n",
       "        [ 0.01020543,  0.01566322, -0.00493186, -0.01034193]],\n",
       "\n",
       "       [[ 0.01259444, -0.01933192,  0.00539015,  0.00478455],\n",
       "        [ 0.01020543,  0.01566322, -0.00493186, -0.01034193],\n",
       "        [ 0.01020543,  0.01566322, -0.00493186, -0.01034193]],\n",
       "\n",
       "       [[-0.01021489, -0.00272903, -0.012645  ,  0.00677401],\n",
       "        [ 0.01020543,  0.01566322, -0.00493186, -0.01034193],\n",
       "        [ 0.01020543,  0.01566322, -0.00493186, -0.01034193]]],\n",
       "      dtype=float32)"
      ]
     },
     "execution_count": 17,
     "metadata": {},
     "output_type": "execute_result"
    }
   ],
   "source": [
    "with tf.variable_scope('embedding', reuse=tf.AUTO_REUSE):\n",
    "    habit_embedding_table_v2 = tf.get_variable(name='habit_embedding_table_2',\n",
    "                                      shape=(habit_vocab_size+1, embed_dim),\n",
    "                                      initializer=tf.truncated_normal_initializer(0, 0.01))\n",
    "habit_embed_v2 = tf.gather(habit_embedding_table_v2, tf.cast(habit_index, tf.int64))\n",
    "with tf.Session() as sess:\n",
    "    sess.run(tf.initialize_all_variables())\n",
    "    print(sess.run(habit_embedding_table_v2))\n",
    "    habit_embeded_v2 = sess.run(habit_embed_v2)\n",
    "    \n",
    "habit_embeded_v2"
   ]
  },
  {
   "cell_type": "code",
   "execution_count": 18,
   "id": "sought-subscriber",
   "metadata": {},
   "outputs": [
    {
     "data": {
      "text/plain": [
       "(10, 3, 4)"
      ]
     },
     "execution_count": 18,
     "metadata": {},
     "output_type": "execute_result"
    }
   ],
   "source": [
    "habit_embeded_v2.shape"
   ]
  },
  {
   "cell_type": "markdown",
   "id": "operating-laptop",
   "metadata": {},
   "source": [
    "生成真实特征和补0特征的mask："
   ]
  },
  {
   "cell_type": "code",
   "execution_count": 19,
   "id": "widespread-tuner",
   "metadata": {},
   "outputs": [
    {
     "name": "stdout",
     "output_type": "stream",
     "text": [
      "[[1 2 3]\n",
      " [4 0 0]\n",
      " [3 4 0]\n",
      " [1 2 0]\n",
      " [2 0 0]\n",
      " [4 0 0]\n",
      " [4 0 0]\n",
      " [3 0 0]\n",
      " [4 0 0]\n",
      " [1 0 0]]\n",
      "[[ True  True  True]\n",
      " [ True False False]\n",
      " [ True  True False]\n",
      " [ True  True False]\n",
      " [ True False False]\n",
      " [ True False False]\n",
      " [ True False False]\n",
      " [ True False False]\n",
      " [ True False False]\n",
      " [ True False False]]\n"
     ]
    },
    {
     "data": {
      "text/plain": [
       "array([[1, 1, 1],\n",
       "       [1, 0, 0],\n",
       "       [1, 1, 0],\n",
       "       [1, 1, 0],\n",
       "       [1, 0, 0],\n",
       "       [1, 0, 0],\n",
       "       [1, 0, 0],\n",
       "       [1, 0, 0],\n",
       "       [1, 0, 0],\n",
       "       [1, 0, 0]])"
      ]
     },
     "execution_count": 19,
     "metadata": {},
     "output_type": "execute_result"
    }
   ],
   "source": [
    "print(habit_index)\n",
    "print(habit_index!=0)\n",
    "mask = (habit_index!=0).astype(int)\n",
    "mask"
   ]
  },
  {
   "cell_type": "markdown",
   "id": "binding-snowboard",
   "metadata": {},
   "source": [
    "用生成的habit字段的dense向量乘以mask，去掉补0值的dense向量："
   ]
  },
  {
   "cell_type": "code",
   "execution_count": 20,
   "id": "proud-nursing",
   "metadata": {},
   "outputs": [
    {
     "data": {
      "text/plain": [
       "array([[[-0.01021489, -0.00272903, -0.012645  ,  0.00677401],\n",
       "        [ 0.00953833,  0.00702333,  0.00557917,  0.01392039],\n",
       "        [ 0.01476383, -0.01419464,  0.00723014,  0.01381919]],\n",
       "\n",
       "       [[ 0.01259444, -0.01933192,  0.00539015,  0.00478455],\n",
       "        [ 0.        ,  0.        , -0.        , -0.        ],\n",
       "        [ 0.        ,  0.        , -0.        , -0.        ]],\n",
       "\n",
       "       [[ 0.01476383, -0.01419464,  0.00723014,  0.01381919],\n",
       "        [ 0.01259444, -0.01933192,  0.00539015,  0.00478455],\n",
       "        [ 0.        ,  0.        , -0.        , -0.        ]],\n",
       "\n",
       "       [[-0.01021489, -0.00272903, -0.012645  ,  0.00677401],\n",
       "        [ 0.00953833,  0.00702333,  0.00557917,  0.01392039],\n",
       "        [ 0.        ,  0.        , -0.        , -0.        ]],\n",
       "\n",
       "       [[ 0.00953833,  0.00702333,  0.00557917,  0.01392039],\n",
       "        [ 0.        ,  0.        , -0.        , -0.        ],\n",
       "        [ 0.        ,  0.        , -0.        , -0.        ]],\n",
       "\n",
       "       [[ 0.01259444, -0.01933192,  0.00539015,  0.00478455],\n",
       "        [ 0.        ,  0.        , -0.        , -0.        ],\n",
       "        [ 0.        ,  0.        , -0.        , -0.        ]],\n",
       "\n",
       "       [[ 0.01259444, -0.01933192,  0.00539015,  0.00478455],\n",
       "        [ 0.        ,  0.        , -0.        , -0.        ],\n",
       "        [ 0.        ,  0.        , -0.        , -0.        ]],\n",
       "\n",
       "       [[ 0.01476383, -0.01419464,  0.00723014,  0.01381919],\n",
       "        [ 0.        ,  0.        , -0.        , -0.        ],\n",
       "        [ 0.        ,  0.        , -0.        , -0.        ]],\n",
       "\n",
       "       [[ 0.01259444, -0.01933192,  0.00539015,  0.00478455],\n",
       "        [ 0.        ,  0.        , -0.        , -0.        ],\n",
       "        [ 0.        ,  0.        , -0.        , -0.        ]],\n",
       "\n",
       "       [[-0.01021489, -0.00272903, -0.012645  ,  0.00677401],\n",
       "        [ 0.        ,  0.        , -0.        , -0.        ],\n",
       "        [ 0.        ,  0.        , -0.        , -0.        ]]])"
      ]
     },
     "execution_count": 20,
     "metadata": {},
     "output_type": "execute_result"
    }
   ],
   "source": [
    "habit_embeded_masked = habit_embeded_v2 * np.expand_dims(mask,2)\n",
    "habit_embeded_masked"
   ]
  },
  {
   "cell_type": "code",
   "execution_count": 21,
   "id": "weighted-hurricane",
   "metadata": {},
   "outputs": [
    {
     "data": {
      "text/plain": [
       "(10, 3, 4)"
      ]
     },
     "execution_count": 21,
     "metadata": {},
     "output_type": "execute_result"
    }
   ],
   "source": [
    "habit_embeded_masked.shape"
   ]
  },
  {
   "cell_type": "markdown",
   "id": "external-winner",
   "metadata": {},
   "source": [
    "求取多值dense向量的均值："
   ]
  },
  {
   "cell_type": "code",
   "execution_count": 22,
   "id": "further-rapid",
   "metadata": {
    "scrolled": true
   },
   "outputs": [
    {
     "data": {
      "text/plain": [
       "array([[ 4.69575357e-03, -3.30011438e-03,  5.47704597e-05,\n",
       "         1.15045267e-02],\n",
       "       [ 4.19814823e-03, -6.44397363e-03,  1.79671745e-03,\n",
       "         1.59485079e-03],\n",
       "       [ 9.11942342e-03, -1.11755213e-02,  4.20676482e-03,\n",
       "         6.20124582e-03],\n",
       "       [-2.25521624e-04,  1.43143333e-03, -2.35527692e-03,\n",
       "         6.89813169e-03],\n",
       "       [ 3.17944276e-03,  2.34110948e-03,  1.85972266e-03,\n",
       "         4.64012877e-03],\n",
       "       [ 4.19814823e-03, -6.44397363e-03,  1.79671745e-03,\n",
       "         1.59485079e-03],\n",
       "       [ 4.19814823e-03, -6.44397363e-03,  1.79671745e-03,\n",
       "         1.59485079e-03],\n",
       "       [ 4.92127519e-03, -4.73154771e-03,  2.41004738e-03,\n",
       "         4.60639503e-03],\n",
       "       [ 4.19814823e-03, -6.44397363e-03,  1.79671745e-03,\n",
       "         1.59485079e-03],\n",
       "       [-3.40496438e-03, -9.09676154e-04, -4.21499958e-03,\n",
       "         2.25800291e-03]])"
      ]
     },
     "execution_count": 22,
     "metadata": {},
     "output_type": "execute_result"
    }
   ],
   "source": [
    "habit_embed_final = tf.reduce_mean(habit_embeded_masked, axis=1)\n",
    "with tf.Session() as sess:\n",
    "    habit_embeded_final = sess.run(habit_embed_final)\n",
    "habit_embeded_final"
   ]
  },
  {
   "cell_type": "code",
   "execution_count": 23,
   "id": "threaded-borough",
   "metadata": {},
   "outputs": [
    {
     "data": {
      "text/plain": [
       "(10, 4)"
      ]
     },
     "execution_count": 23,
     "metadata": {},
     "output_type": "execute_result"
    }
   ],
   "source": [
    "habit_embeded_final.shape"
   ]
  },
  {
   "cell_type": "markdown",
   "id": "pediatric-revelation",
   "metadata": {},
   "source": [
    "求取均值的另一种方法：多值特征的dense向量的和／mask的和"
   ]
  },
  {
   "cell_type": "code",
   "execution_count": 48,
   "id": "adjusted-cheat",
   "metadata": {},
   "outputs": [
    {
     "name": "stdout",
     "output_type": "stream",
     "text": [
      "[[1 1 1]\n",
      " [1 0 0]\n",
      " [1 1 0]\n",
      " [1 1 0]\n",
      " [1 0 0]\n",
      " [1 0 0]\n",
      " [1 0 0]\n",
      " [1 0 0]\n",
      " [1 0 0]\n",
      " [1 0 0]]\n",
      "[[3.]\n",
      " [1.]\n",
      " [2.]\n",
      " [2.]\n",
      " [1.]\n",
      " [1.]\n",
      " [1.]\n",
      " [1.]\n",
      " [1.]\n",
      " [1.]]\n",
      "[[ 4.69575357e-03 -3.30011438e-03  5.47704597e-05  1.15045267e-02]\n",
      " [ 1.25944447e-02 -1.93319209e-02  5.39015234e-03  4.78455238e-03]\n",
      " [ 1.36791351e-02 -1.67632820e-02  6.31014723e-03  9.30186873e-03]\n",
      " [-3.38282436e-04  2.14714999e-03 -3.53291538e-03  1.03471975e-02]\n",
      " [ 9.53832828e-03  7.02332845e-03  5.57916798e-03  1.39203863e-02]\n",
      " [ 1.25944447e-02 -1.93319209e-02  5.39015234e-03  4.78455238e-03]\n",
      " [ 1.25944447e-02 -1.93319209e-02  5.39015234e-03  4.78455238e-03]\n",
      " [ 1.47638256e-02 -1.41946431e-02  7.23014213e-03  1.38191851e-02]\n",
      " [ 1.25944447e-02 -1.93319209e-02  5.39015234e-03  4.78455238e-03]\n",
      " [-1.02148931e-02 -2.72902846e-03 -1.26449987e-02  6.77400874e-03]]\n"
     ]
    }
   ],
   "source": [
    "print(mask)\n",
    "with tf.Session() as sess:\n",
    "    print(sess.run(tf.cast(tf.reshape(tf.reduce_sum(mask, axis=1), (batch_size, 1)), tf.float64)))\n",
    "    print(sess.run(tf.divide(tf.reduce_sum(habit_embeded_masked, axis=1), tf.cast(tf.reshape(tf.reduce_sum(mask, axis=1), (batch_size, 1)), tf.float64))))\n"
   ]
  },
  {
   "cell_type": "markdown",
   "id": "fixed-partnership",
   "metadata": {},
   "source": [
    "### Numerical Features"
   ]
  },
  {
   "cell_type": "markdown",
   "id": "short-consultancy",
   "metadata": {},
   "source": [
    "连续值特征："
   ]
  },
  {
   "cell_type": "code",
   "execution_count": 52,
   "id": "infectious-talent",
   "metadata": {},
   "outputs": [
    {
     "data": {
      "text/plain": [
       "0    48\n",
       "1    30\n",
       "2    34\n",
       "3    35\n",
       "4    27\n",
       "5    45\n",
       "6    44\n",
       "7    21\n",
       "8    39\n",
       "9    31\n",
       "Name: age, dtype: int64"
      ]
     },
     "execution_count": 52,
     "metadata": {},
     "output_type": "execute_result"
    }
   ],
   "source": [
    "data['age']"
   ]
  },
  {
   "cell_type": "markdown",
   "id": "sustainable-award",
   "metadata": {},
   "source": [
    "处理连续值特征的三种方式：\n",
    "\n",
    "* 不做embedding处理:\n",
    "  \n",
    "  直接使用原始值或者原始值的映射，案例：Google Play的Wide&Deep, JD的DMT, YoutubeDNN\n",
    "  \n",
    "  \n",
    "* 直接做embeding处理：\n",
    "  \n",
    "  比如将age字段看作是年龄分组粒度为1的特征，即看做了分类特征，可直接从embedding table中索引dense向量。\n",
    "  \n",
    "  \n",
    "* 硬离散化处理：\n",
    "\n",
    "  比如将age字段先分桶，等距分桶或者等频分桶或者log化，比如将age字段等距分桶，11-20岁～1；21-30岁～2；31-40岁～3；41-50岁～4；51-60岁～5；即转化为离散特征，再按离散特征的方式做onehot编码，与embeding矩阵相乘。\n",
    "  \n",
    "  硬离散的缺点：信息损失；相似值可能分在不同的桶里；相同的桶里存在差异很大的特征值；\n",
    "  \n",
    "  \n",
    "* 软离散化处理：Autodis\n",
    "\n",
    "  相比硬离散把一个特征值分到一个特定的桶里，软离散给予每个样本的特征值一系列分桶权重，Weighted-Average, 与哪个桶的关系大，weight就大，与哪个桶的关系小，weight就小。比如上例中，对于age=30特征而言，它的权重可能是[0.2, 0.7, 0.3, 0.2, 0.1], 最终它的分桶就是0.2*1+2*0.7+0.3*3+0.2*4+0.1*5=3.7, 最终每个样本的age特征值都有一个属于自己独特的分桶值，然后再与embedding table矩阵相乘得到dense向量。\n",
    "  "
   ]
  },
  {
   "cell_type": "code",
   "execution_count": 57,
   "id": "employed-flower",
   "metadata": {},
   "outputs": [
    {
     "data": {
      "text/plain": [
       "array([[0.6441853 , 0.54293144, 0.41212475, 0.09288633, 0.8783301 ]],\n",
       "      dtype=float32)"
      ]
     },
     "execution_count": 57,
     "metadata": {},
     "output_type": "execute_result"
    }
   ],
   "source": [
    "with tf.variable_scope('autodis_embedding', reuse=tf.AUTO_REUSE):\n",
    "    weights = tf.get_variable(name='autodis_weights',\n",
    "                              shape=(1, 5),\n",
    "                              initializer=tf.random_uniform_initializer(0, 1))\n",
    "    \n",
    "with tf.Session() as sess:\n",
    "    sess.run(tf.initialize_all_variables())\n",
    "    wt = sess.run(weights)\n",
    "wt"
   ]
  },
  {
   "cell_type": "code",
   "execution_count": 58,
   "id": "sublime-symphony",
   "metadata": {},
   "outputs": [
    {
     "data": {
      "text/plain": [
       "array([[19.32555914, 16.28794312, 12.36374259,  2.78658986, 26.34990335]])"
      ]
     },
     "execution_count": 58,
     "metadata": {},
     "output_type": "execute_result"
    }
   ],
   "source": [
    "[30] * wt"
   ]
  }
 ],
 "metadata": {
  "kernelspec": {
   "display_name": "Python 3",
   "language": "python",
   "name": "python3"
  },
  "language_info": {
   "codemirror_mode": {
    "name": "ipython",
    "version": 3
   },
   "file_extension": ".py",
   "mimetype": "text/x-python",
   "name": "python",
   "nbconvert_exporter": "python",
   "pygments_lexer": "ipython3",
   "version": "3.9.2"
  }
 },
 "nbformat": 4,
 "nbformat_minor": 5
}
